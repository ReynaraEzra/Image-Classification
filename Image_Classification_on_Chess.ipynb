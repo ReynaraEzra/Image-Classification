{
  "nbformat": 4,
  "nbformat_minor": 0,
  "metadata": {
    "colab": {
      "name": "Image Classification on Chess.ipynb",
      "provenance": [],
      "authorship_tag": "ABX9TyOueoW3p+9W4fRPd9c8lJBn",
      "include_colab_link": true
    },
    "kernelspec": {
      "name": "python3",
      "display_name": "Python 3"
    },
    "language_info": {
      "name": "python"
    },
    "accelerator": "GPU"
  },
  "cells": [
    {
      "cell_type": "markdown",
      "metadata": {
        "id": "view-in-github",
        "colab_type": "text"
      },
      "source": [
        "<a href=\"https://colab.research.google.com/github/ReynaraEzra/Image-Classification-Tensorflow/blob/main/Image_Classification_on_Chess.ipynb\" target=\"_parent\"><img src=\"https://colab.research.google.com/assets/colab-badge.svg\" alt=\"Open In Colab\"/></a>"
      ]
    },
    {
      "cell_type": "markdown",
      "metadata": {
        "id": "MeXY9xjSCM-k"
      },
      "source": [
        "# **Image Classification on Chess**\n",
        "## **Reynara Ezra Pratama**"
      ]
    },
    {
      "cell_type": "code",
      "metadata": {
        "colab": {
          "base_uri": "https://localhost:8080/"
        },
        "id": "1mt-WgyDBNpA",
        "outputId": "119e8b8a-930d-4f23-94e5-83299dffcd4e"
      },
      "source": [
        "import tensorflow as tf\n",
        "print(tf.__version__)"
      ],
      "execution_count": 1,
      "outputs": [
        {
          "output_type": "stream",
          "text": [
            "2.5.0\n"
          ],
          "name": "stdout"
        }
      ]
    },
    {
      "cell_type": "code",
      "metadata": {
        "colab": {
          "base_uri": "https://localhost:8080/"
        },
        "id": "u2ekTmddCbe3",
        "outputId": "897349f3-8b19-4113-9bf0-a37c222d231d"
      },
      "source": [
        "!pip install ipython-autotime\n",
        "%load_ext autotime"
      ],
      "execution_count": 2,
      "outputs": [
        {
          "output_type": "stream",
          "text": [
            "Collecting ipython-autotime\n",
            "  Downloading https://files.pythonhosted.org/packages/b4/c9/b413a24f759641bc27ef98c144b590023c8038dfb8a3f09e713e9dff12c1/ipython_autotime-0.3.1-py2.py3-none-any.whl\n",
            "Requirement already satisfied: ipython in /usr/local/lib/python3.7/dist-packages (from ipython-autotime) (5.5.0)\n",
            "Requirement already satisfied: decorator in /usr/local/lib/python3.7/dist-packages (from ipython->ipython-autotime) (4.4.2)\n",
            "Requirement already satisfied: pygments in /usr/local/lib/python3.7/dist-packages (from ipython->ipython-autotime) (2.6.1)\n",
            "Requirement already satisfied: setuptools>=18.5 in /usr/local/lib/python3.7/dist-packages (from ipython->ipython-autotime) (57.0.0)\n",
            "Requirement already satisfied: pexpect; sys_platform != \"win32\" in /usr/local/lib/python3.7/dist-packages (from ipython->ipython-autotime) (4.8.0)\n",
            "Requirement already satisfied: pickleshare in /usr/local/lib/python3.7/dist-packages (from ipython->ipython-autotime) (0.7.5)\n",
            "Requirement already satisfied: simplegeneric>0.8 in /usr/local/lib/python3.7/dist-packages (from ipython->ipython-autotime) (0.8.1)\n",
            "Requirement already satisfied: traitlets>=4.2 in /usr/local/lib/python3.7/dist-packages (from ipython->ipython-autotime) (5.0.5)\n",
            "Requirement already satisfied: prompt-toolkit<2.0.0,>=1.0.4 in /usr/local/lib/python3.7/dist-packages (from ipython->ipython-autotime) (1.0.18)\n",
            "Requirement already satisfied: ptyprocess>=0.5 in /usr/local/lib/python3.7/dist-packages (from pexpect; sys_platform != \"win32\"->ipython->ipython-autotime) (0.7.0)\n",
            "Requirement already satisfied: ipython-genutils in /usr/local/lib/python3.7/dist-packages (from traitlets>=4.2->ipython->ipython-autotime) (0.2.0)\n",
            "Requirement already satisfied: wcwidth in /usr/local/lib/python3.7/dist-packages (from prompt-toolkit<2.0.0,>=1.0.4->ipython->ipython-autotime) (0.2.5)\n",
            "Requirement already satisfied: six>=1.9.0 in /usr/local/lib/python3.7/dist-packages (from prompt-toolkit<2.0.0,>=1.0.4->ipython->ipython-autotime) (1.15.0)\n",
            "Installing collected packages: ipython-autotime\n",
            "Successfully installed ipython-autotime-0.3.1\n",
            "time: 192 µs (started: 2021-06-29 15:18:21 +00:00)\n"
          ],
          "name": "stdout"
        }
      ]
    },
    {
      "cell_type": "markdown",
      "metadata": {
        "id": "ftdEpgBgC6eD"
      },
      "source": [
        "# **Get Data**"
      ]
    },
    {
      "cell_type": "code",
      "metadata": {
        "colab": {
          "base_uri": "https://localhost:8080/"
        },
        "id": "GtvoYHZZCmN9",
        "outputId": "822461c9-0103-491c-bc52-86afa6479663"
      },
      "source": [
        "!wget --no-check-certificate \\\n",
        "  https://dicodingacademy.blob.core.windows.net/picodiploma/ml_pengembangan_academy/Chessman-image-dataset.zip \\\n",
        "  -O /tmp/Chessman-image-dataset.zip"
      ],
      "execution_count": 3,
      "outputs": [
        {
          "output_type": "stream",
          "text": [
            "--2021-06-29 15:18:21--  https://dicodingacademy.blob.core.windows.net/picodiploma/ml_pengembangan_academy/Chessman-image-dataset.zip\n",
            "Resolving dicodingacademy.blob.core.windows.net (dicodingacademy.blob.core.windows.net)... 52.239.197.36\n",
            "Connecting to dicodingacademy.blob.core.windows.net (dicodingacademy.blob.core.windows.net)|52.239.197.36|:443... connected.\n",
            "HTTP request sent, awaiting response... 200 OK\n",
            "Length: 60684125 (58M) [application/zip]\n",
            "Saving to: ‘/tmp/Chessman-image-dataset.zip’\n",
            "\n",
            "/tmp/Chessman-image 100%[===================>]  57.87M  12.3MB/s    in 5.9s    \n",
            "\n",
            "2021-06-29 15:18:28 (9.78 MB/s) - ‘/tmp/Chessman-image-dataset.zip’ saved [60684125/60684125]\n",
            "\n",
            "time: 6.85 s (started: 2021-06-29 15:18:21 +00:00)\n"
          ],
          "name": "stdout"
        }
      ]
    },
    {
      "cell_type": "markdown",
      "metadata": {
        "id": "Vdaszk1yC-Ea"
      },
      "source": [
        "# **Extract Data**"
      ]
    },
    {
      "cell_type": "code",
      "metadata": {
        "colab": {
          "base_uri": "https://localhost:8080/"
        },
        "id": "koKIGqK5C3on",
        "outputId": "c031383b-4d56-4168-b13f-1258ae555cb1"
      },
      "source": [
        "import zipfile, os\n",
        "\n",
        "local_zip = '/tmp/Chessman-image-dataset.zip'\n",
        "zip_ref = zipfile.ZipFile(local_zip, 'r')\n",
        "zip_ref.extractall('/tmp')\n",
        "zip_ref.close()"
      ],
      "execution_count": 4,
      "outputs": [
        {
          "output_type": "stream",
          "text": [
            "time: 639 ms (started: 2021-06-29 15:18:28 +00:00)\n"
          ],
          "name": "stdout"
        }
      ]
    },
    {
      "cell_type": "markdown",
      "metadata": {
        "id": "diMucv8aDebU"
      },
      "source": [
        "# **Check Data**"
      ]
    },
    {
      "cell_type": "code",
      "metadata": {
        "colab": {
          "base_uri": "https://localhost:8080/"
        },
        "id": "JZ0rTsysDiPq",
        "outputId": "9a9709d2-c6ec-4361-bb1d-0e82e9ec022a"
      },
      "source": [
        "print(os.listdir('/tmp/Chessman-image-dataset/Chess'))"
      ],
      "execution_count": 5,
      "outputs": [
        {
          "output_type": "stream",
          "text": [
            "['King', 'Queen', 'Knight', 'Rook', 'Bishop', 'Pawn']\n",
            "time: 1.83 ms (started: 2021-06-29 15:18:29 +00:00)\n"
          ],
          "name": "stdout"
        }
      ]
    },
    {
      "cell_type": "code",
      "metadata": {
        "colab": {
          "base_uri": "https://localhost:8080/"
        },
        "id": "Uw1ARgxCDlv7",
        "outputId": "9a4f13fb-e348-4d3a-a9f4-a477c3bf2900"
      },
      "source": [
        "print('Number of Queen Images :{}'.format(len(os.listdir('/tmp/Chessman-image-dataset/Chess/Queen/'))))\n",
        "print('Number of King Images :{}'.format(len(os.listdir('/tmp/Chessman-image-dataset/Chess/King/'))))\n",
        "print('Number of Bishop Images :{}'.format(len(os.listdir('/tmp/Chessman-image-dataset/Chess/Bishop/'))))\n",
        "print('Number of Rook Images :{}'.format(len(os.listdir('/tmp/Chessman-image-dataset/Chess/Rook/'))))\n",
        "print('Number of Pawn Images :{}'.format(len(os.listdir('/tmp/Chessman-image-dataset/Chess/Pawn/'))))\n",
        "print('Number of Knight Images :{}'.format(len(os.listdir('/tmp/Chessman-image-dataset/Chess/Knight/'))))"
      ],
      "execution_count": 6,
      "outputs": [
        {
          "output_type": "stream",
          "text": [
            "Number of Queen Images :78\n",
            "Number of King Images :76\n",
            "Number of Bishop Images :87\n",
            "Number of Rook Images :102\n",
            "Number of Pawn Images :107\n",
            "Number of Knight Images :106\n",
            "time: 9.22 ms (started: 2021-06-29 15:18:29 +00:00)\n"
          ],
          "name": "stdout"
        }
      ]
    },
    {
      "cell_type": "markdown",
      "metadata": {
        "id": "bDDaoKgcEecU"
      },
      "source": [
        "# **Image Augmentation**"
      ]
    },
    {
      "cell_type": "code",
      "metadata": {
        "colab": {
          "base_uri": "https://localhost:8080/"
        },
        "id": "-rHGFEpqEF3R",
        "outputId": "c83b6acd-1235-4d72-d1d6-c1b374ee5a27"
      },
      "source": [
        "from tensorflow.keras.preprocessing.image import ImageDataGenerator\n",
        "\n",
        "train_dir = os.path.join('/tmp/Chessman-image-dataset/Chess')\n",
        "train_datagen = ImageDataGenerator(\n",
        "    rescale = 1./255,\n",
        "    rotation_range = 20,\n",
        "    #horizontal_flip = True,\n",
        "    shear_range = 0.2,\n",
        "    zoom_range = 0.2,\n",
        "    fill_mode = 'nearest',\n",
        "    validation_split = 0.1\n",
        ")\n",
        "\n",
        "train_generator = train_datagen.flow_from_directory(\n",
        "    train_dir,\n",
        "    target_size = (150, 150),\n",
        "    batch_size = 8,\n",
        "    class_mode = 'categorical',\n",
        "    subset = 'training'\n",
        ")\n",
        "\n",
        "validation_generator = train_datagen.flow_from_directory(\n",
        "    train_dir,\n",
        "    target_size = (150, 150),\n",
        "    batch_size = 16,\n",
        "    class_mode = 'categorical',\n",
        "    subset = 'validation'\n",
        ")"
      ],
      "execution_count": 7,
      "outputs": [
        {
          "output_type": "stream",
          "text": [
            "Found 499 images belonging to 6 classes.\n",
            "Found 52 images belonging to 6 classes.\n",
            "time: 210 ms (started: 2021-06-29 15:18:29 +00:00)\n"
          ],
          "name": "stdout"
        }
      ]
    },
    {
      "cell_type": "markdown",
      "metadata": {
        "id": "dS5qKTLdLtyx"
      },
      "source": [
        "# **Construct Model Using CNN**"
      ]
    },
    {
      "cell_type": "code",
      "metadata": {
        "colab": {
          "base_uri": "https://localhost:8080/"
        },
        "id": "_xfmEv4YLwGI",
        "outputId": "0d589bbd-4c7a-40d0-9704-54e5e53cd84a"
      },
      "source": [
        "from tensorflow.keras.layers import Input\n",
        "from tensorflow.keras.applications import ResNet50\n",
        "from tensorflow.keras.applications import ResNet152V2\n",
        "\n",
        "model = tf.keras.models.Sequential([\n",
        "    ResNet152V2(weights='imagenet', include_top=False, input_tensor=Input(shape=(150, 150, 3))),\n",
        "    #tf.keras.layers.Dropout(0.4),\n",
        "    tf.keras.layers.Flatten(),\n",
        "    tf.keras.layers.Dense(units=512, activation='relu'),\n",
        "    tf.keras.layers.Dense(units=256, activation='relu'),\n",
        "    tf.keras.layers.Dense(units=6, activation='softmax')\n",
        "])\n",
        "model.layers[0].trainable = False"
      ],
      "execution_count": 8,
      "outputs": [
        {
          "output_type": "stream",
          "text": [
            "Downloading data from https://storage.googleapis.com/tensorflow/keras-applications/resnet/resnet152v2_weights_tf_dim_ordering_tf_kernels_notop.h5\n",
            "234553344/234545216 [==============================] - 2s 0us/step\n",
            "time: 12.4 s (started: 2021-06-29 15:18:29 +00:00)\n"
          ],
          "name": "stdout"
        }
      ]
    },
    {
      "cell_type": "code",
      "metadata": {
        "colab": {
          "base_uri": "https://localhost:8080/"
        },
        "id": "DezVeSYHRxVA",
        "outputId": "445f4865-be4c-4341-c6cf-2401a6b60602"
      },
      "source": [
        "model.summary()"
      ],
      "execution_count": 9,
      "outputs": [
        {
          "output_type": "stream",
          "text": [
            "Model: \"sequential\"\n",
            "_________________________________________________________________\n",
            "Layer (type)                 Output Shape              Param #   \n",
            "=================================================================\n",
            "resnet152v2 (Functional)     (None, 5, 5, 2048)        58331648  \n",
            "_________________________________________________________________\n",
            "flatten (Flatten)            (None, 51200)             0         \n",
            "_________________________________________________________________\n",
            "dense (Dense)                (None, 512)               26214912  \n",
            "_________________________________________________________________\n",
            "dense_1 (Dense)              (None, 256)               131328    \n",
            "_________________________________________________________________\n",
            "dense_2 (Dense)              (None, 6)                 1542      \n",
            "=================================================================\n",
            "Total params: 84,679,430\n",
            "Trainable params: 26,347,782\n",
            "Non-trainable params: 58,331,648\n",
            "_________________________________________________________________\n",
            "time: 29.9 ms (started: 2021-06-29 15:18:41 +00:00)\n"
          ],
          "name": "stdout"
        }
      ]
    },
    {
      "cell_type": "markdown",
      "metadata": {
        "id": "pQHGRV5cSMWO"
      },
      "source": [
        "# **Run Model**"
      ]
    },
    {
      "cell_type": "code",
      "metadata": {
        "colab": {
          "base_uri": "https://localhost:8080/"
        },
        "id": "gvPmie9NSKqj",
        "outputId": "5b29f560-9380-480b-b0ed-1d64f11dfd78"
      },
      "source": [
        "model.compile(\n",
        "    optimizer=tf.optimizers.Adam(),\n",
        "    loss='categorical_crossentropy',\n",
        "    metrics=['accuracy']\n",
        ")"
      ],
      "execution_count": 10,
      "outputs": [
        {
          "output_type": "stream",
          "text": [
            "time: 16.2 ms (started: 2021-06-29 15:18:41 +00:00)\n"
          ],
          "name": "stdout"
        }
      ]
    },
    {
      "cell_type": "code",
      "metadata": {
        "colab": {
          "base_uri": "https://localhost:8080/"
        },
        "id": "fN10_NW7SZK_",
        "outputId": "0f5a8b6f-a541-40e9-c57c-2ba73fca6728"
      },
      "source": [
        "history = model.fit(\n",
        "    train_generator,\n",
        "    validation_data=validation_generator,\n",
        "    epochs=50,\n",
        "    verbose=1\n",
        ")"
      ],
      "execution_count": 11,
      "outputs": [
        {
          "output_type": "stream",
          "text": [
            "Epoch 1/50\n",
            "63/63 [==============================] - 52s 238ms/step - loss: 9.8178 - accuracy: 0.4349 - val_loss: 1.9127 - val_accuracy: 0.6154\n",
            "Epoch 2/50\n",
            "63/63 [==============================] - 11s 173ms/step - loss: 1.8841 - accuracy: 0.6754 - val_loss: 2.1130 - val_accuracy: 0.6154\n",
            "Epoch 3/50\n",
            "63/63 [==============================] - 11s 173ms/step - loss: 1.3930 - accuracy: 0.7355 - val_loss: 1.1978 - val_accuracy: 0.7500\n",
            "Epoch 4/50\n",
            "63/63 [==============================] - 11s 175ms/step - loss: 0.7340 - accuracy: 0.8076 - val_loss: 1.2343 - val_accuracy: 0.7308\n",
            "Epoch 5/50\n",
            "63/63 [==============================] - 11s 175ms/step - loss: 0.7555 - accuracy: 0.8156 - val_loss: 1.8904 - val_accuracy: 0.6346\n",
            "Epoch 6/50\n",
            "63/63 [==============================] - 11s 174ms/step - loss: 0.7124 - accuracy: 0.8397 - val_loss: 0.4971 - val_accuracy: 0.8654\n",
            "Epoch 7/50\n",
            "63/63 [==============================] - 11s 175ms/step - loss: 0.5634 - accuracy: 0.8737 - val_loss: 1.7400 - val_accuracy: 0.7115\n",
            "Epoch 8/50\n",
            "63/63 [==============================] - 11s 170ms/step - loss: 0.7915 - accuracy: 0.8277 - val_loss: 1.0118 - val_accuracy: 0.8077\n",
            "Epoch 9/50\n",
            "63/63 [==============================] - 11s 172ms/step - loss: 0.5345 - accuracy: 0.8878 - val_loss: 1.2539 - val_accuracy: 0.7308\n",
            "Epoch 10/50\n",
            "63/63 [==============================] - 11s 174ms/step - loss: 0.3753 - accuracy: 0.9118 - val_loss: 0.8854 - val_accuracy: 0.7500\n",
            "Epoch 11/50\n",
            "63/63 [==============================] - 11s 174ms/step - loss: 0.2449 - accuracy: 0.9279 - val_loss: 0.9004 - val_accuracy: 0.8077\n",
            "Epoch 12/50\n",
            "63/63 [==============================] - 11s 175ms/step - loss: 0.4035 - accuracy: 0.8958 - val_loss: 0.5417 - val_accuracy: 0.8269\n",
            "Epoch 13/50\n",
            "63/63 [==============================] - 11s 173ms/step - loss: 0.2750 - accuracy: 0.9279 - val_loss: 0.9419 - val_accuracy: 0.7115\n",
            "Epoch 14/50\n",
            "63/63 [==============================] - 11s 176ms/step - loss: 0.4002 - accuracy: 0.9118 - val_loss: 1.0703 - val_accuracy: 0.7115\n",
            "Epoch 15/50\n",
            "63/63 [==============================] - 11s 174ms/step - loss: 0.2778 - accuracy: 0.9118 - val_loss: 1.0969 - val_accuracy: 0.6923\n",
            "Epoch 16/50\n",
            "63/63 [==============================] - 11s 176ms/step - loss: 0.2325 - accuracy: 0.9319 - val_loss: 1.0009 - val_accuracy: 0.7692\n",
            "Epoch 17/50\n",
            "63/63 [==============================] - 11s 174ms/step - loss: 0.1694 - accuracy: 0.9499 - val_loss: 1.8677 - val_accuracy: 0.7308\n",
            "Epoch 18/50\n",
            "63/63 [==============================] - 11s 173ms/step - loss: 0.5970 - accuracy: 0.8898 - val_loss: 1.2673 - val_accuracy: 0.7500\n",
            "Epoch 19/50\n",
            "63/63 [==============================] - 11s 173ms/step - loss: 0.5570 - accuracy: 0.8938 - val_loss: 1.3916 - val_accuracy: 0.7885\n",
            "Epoch 20/50\n",
            "63/63 [==============================] - 11s 172ms/step - loss: 0.3615 - accuracy: 0.9218 - val_loss: 0.7929 - val_accuracy: 0.7500\n",
            "Epoch 21/50\n",
            "63/63 [==============================] - 11s 175ms/step - loss: 0.1681 - accuracy: 0.9579 - val_loss: 1.0142 - val_accuracy: 0.8462\n",
            "Epoch 22/50\n",
            "63/63 [==============================] - 11s 175ms/step - loss: 0.3270 - accuracy: 0.9279 - val_loss: 0.6538 - val_accuracy: 0.8654\n",
            "Epoch 23/50\n",
            "63/63 [==============================] - 11s 175ms/step - loss: 0.3110 - accuracy: 0.9419 - val_loss: 2.4797 - val_accuracy: 0.7500\n",
            "Epoch 24/50\n",
            "63/63 [==============================] - 11s 174ms/step - loss: 0.2788 - accuracy: 0.9359 - val_loss: 1.4874 - val_accuracy: 0.7308\n",
            "Epoch 25/50\n",
            "63/63 [==============================] - 11s 174ms/step - loss: 0.2701 - accuracy: 0.9459 - val_loss: 0.9405 - val_accuracy: 0.7692\n",
            "Epoch 26/50\n",
            "63/63 [==============================] - 11s 165ms/step - loss: 0.1360 - accuracy: 0.9579 - val_loss: 0.6224 - val_accuracy: 0.8269\n",
            "Epoch 27/50\n",
            "63/63 [==============================] - 11s 176ms/step - loss: 0.0939 - accuracy: 0.9699 - val_loss: 1.0392 - val_accuracy: 0.7500\n",
            "Epoch 28/50\n",
            "63/63 [==============================] - 11s 174ms/step - loss: 0.1498 - accuracy: 0.9519 - val_loss: 1.0421 - val_accuracy: 0.7308\n",
            "Epoch 29/50\n",
            "63/63 [==============================] - 11s 173ms/step - loss: 0.2451 - accuracy: 0.9459 - val_loss: 0.9063 - val_accuracy: 0.8077\n",
            "Epoch 30/50\n",
            "63/63 [==============================] - 11s 174ms/step - loss: 0.2667 - accuracy: 0.9379 - val_loss: 1.1308 - val_accuracy: 0.7692\n",
            "Epoch 31/50\n",
            "63/63 [==============================] - 11s 177ms/step - loss: 0.2000 - accuracy: 0.9439 - val_loss: 1.7489 - val_accuracy: 0.7115\n",
            "Epoch 32/50\n",
            "63/63 [==============================] - 11s 173ms/step - loss: 0.1634 - accuracy: 0.9519 - val_loss: 1.3819 - val_accuracy: 0.7115\n",
            "Epoch 33/50\n",
            "63/63 [==============================] - 11s 173ms/step - loss: 0.3293 - accuracy: 0.9419 - val_loss: 1.4902 - val_accuracy: 0.8077\n",
            "Epoch 34/50\n",
            "63/63 [==============================] - 11s 176ms/step - loss: 0.1990 - accuracy: 0.9519 - val_loss: 1.1499 - val_accuracy: 0.7500\n",
            "Epoch 35/50\n",
            "63/63 [==============================] - 11s 174ms/step - loss: 0.1720 - accuracy: 0.9499 - val_loss: 1.0166 - val_accuracy: 0.8077\n",
            "Epoch 36/50\n",
            "63/63 [==============================] - 11s 175ms/step - loss: 0.1262 - accuracy: 0.9699 - val_loss: 0.3457 - val_accuracy: 0.8654\n",
            "Epoch 37/50\n",
            "63/63 [==============================] - 11s 175ms/step - loss: 0.5678 - accuracy: 0.9299 - val_loss: 0.8216 - val_accuracy: 0.7885\n",
            "Epoch 38/50\n",
            "63/63 [==============================] - 11s 175ms/step - loss: 0.3482 - accuracy: 0.9399 - val_loss: 1.5505 - val_accuracy: 0.7308\n",
            "Epoch 39/50\n",
            "63/63 [==============================] - 11s 167ms/step - loss: 0.2012 - accuracy: 0.9559 - val_loss: 1.0163 - val_accuracy: 0.7692\n",
            "Epoch 40/50\n",
            "63/63 [==============================] - 11s 176ms/step - loss: 0.1369 - accuracy: 0.9719 - val_loss: 0.6939 - val_accuracy: 0.7885\n",
            "Epoch 41/50\n",
            "63/63 [==============================] - 11s 175ms/step - loss: 0.1150 - accuracy: 0.9619 - val_loss: 0.8661 - val_accuracy: 0.8269\n",
            "Epoch 42/50\n",
            "63/63 [==============================] - 11s 177ms/step - loss: 0.2922 - accuracy: 0.9679 - val_loss: 0.7357 - val_accuracy: 0.8077\n",
            "Epoch 43/50\n",
            "63/63 [==============================] - 11s 177ms/step - loss: 0.1009 - accuracy: 0.9659 - val_loss: 0.9332 - val_accuracy: 0.8077\n",
            "Epoch 44/50\n",
            "63/63 [==============================] - 11s 177ms/step - loss: 0.0640 - accuracy: 0.9760 - val_loss: 0.7754 - val_accuracy: 0.8269\n",
            "Epoch 45/50\n",
            "63/63 [==============================] - 11s 178ms/step - loss: 0.0717 - accuracy: 0.9820 - val_loss: 0.6644 - val_accuracy: 0.8269\n",
            "Epoch 46/50\n",
            "63/63 [==============================] - 11s 178ms/step - loss: 0.1135 - accuracy: 0.9639 - val_loss: 1.1034 - val_accuracy: 0.8077\n",
            "Epoch 47/50\n",
            "63/63 [==============================] - 11s 178ms/step - loss: 0.0877 - accuracy: 0.9820 - val_loss: 0.6700 - val_accuracy: 0.8462\n",
            "Epoch 48/50\n",
            "63/63 [==============================] - 11s 181ms/step - loss: 0.0432 - accuracy: 0.9820 - val_loss: 0.6990 - val_accuracy: 0.8269\n",
            "Epoch 49/50\n",
            "63/63 [==============================] - 11s 180ms/step - loss: 0.0967 - accuracy: 0.9739 - val_loss: 0.7695 - val_accuracy: 0.8269\n",
            "Epoch 50/50\n",
            "63/63 [==============================] - 11s 175ms/step - loss: 0.0452 - accuracy: 0.9840 - val_loss: 0.8444 - val_accuracy: 0.7885\n",
            "time: 10min 12s (started: 2021-06-29 15:18:41 +00:00)\n"
          ],
          "name": "stdout"
        }
      ]
    },
    {
      "cell_type": "markdown",
      "metadata": {
        "id": "0WhrkJIyY0Nl"
      },
      "source": [
        "# **Plot History**"
      ]
    },
    {
      "cell_type": "code",
      "metadata": {
        "colab": {
          "base_uri": "https://localhost:8080/"
        },
        "id": "moFsbOiISjaQ",
        "outputId": "6832bafd-a89a-408e-cd11-382fe2c76749"
      },
      "source": [
        "import matplotlib.pyplot as plt\n",
        "\n",
        "def plot_accuracy(history):\n",
        "  plt.figure(figsize=(18,5))\n",
        "  acc = history.history['accuracy']\n",
        "  val_acc = history.history['val_accuracy']\n",
        "  epochs = range(len(acc))\n",
        "  plot_acc = plt.plot(epochs, acc, 'red', label='Training Accuracy')\n",
        "  plot_val_acc = plt.plot(epochs, val_acc, 'blue', label='Validation Accuracy')\n",
        "  plt.xlabel('Epoch', fontsize=15)\n",
        "  plt.ylabel('Accuracy', fontsize=15)\n",
        "  plt.title('Training and Validation Accuracy', fontsize=25)\n",
        "  plt.legend(bbox_to_anchor=(1,1), loc='best')\n",
        "  plt.grid()\n",
        "  plt.show()\n",
        "\n",
        "def plot_loss(history):\n",
        "  plt.figure(figsize=(18,5))\n",
        "  loss = history.history['loss']\n",
        "  val_loss = history.history['val_loss']\n",
        "  epochs = range(len(loss))\n",
        "  plot_loss = plt.plot(epochs, loss, 'red', label='Training Loss')\n",
        "  plot_val_loss = plt.plot(epochs, val_loss, 'blue', label='Validation Loss')\n",
        "  plt.xlabel('Epoch', fontsize=15)\n",
        "  plt.ylabel('Loss', fontsize=15)\n",
        "  plt.title('Training and Validation Loss', fontsize=25)\n",
        "  plt.legend(bbox_to_anchor=(1,1), loc='best')\n",
        "  plt.grid()\n",
        "  plt.show()"
      ],
      "execution_count": 12,
      "outputs": [
        {
          "output_type": "stream",
          "text": [
            "time: 21.4 ms (started: 2021-06-29 15:29:28 +00:00)\n"
          ],
          "name": "stdout"
        }
      ]
    },
    {
      "cell_type": "code",
      "metadata": {
        "colab": {
          "base_uri": "https://localhost:8080/",
          "height": 381
        },
        "id": "JlCIgno2Y7LW",
        "outputId": "f2b58882-871e-42f4-bca1-f05e96ad664a"
      },
      "source": [
        "plot_accuracy(history)"
      ],
      "execution_count": 13,
      "outputs": [
        {
          "output_type": "display_data",
          "data": {
            "image/png": "[encoded data removed]",
            "text/plain": [
              "<Figure size 1296x360 with 1 Axes>"
            ]
          },
          "metadata": {
            "tags": [],
            "needs_background": "light"
          }
        },
        {
          "output_type": "stream",
          "text": [
            "time: 209 ms (started: 2021-06-29 15:29:44 +00:00)\n"
          ],
          "name": "stdout"
        }
      ]
    },
    {
      "cell_type": "code",
      "metadata": {
        "colab": {
          "base_uri": "https://localhost:8080/",
          "height": 381
        },
        "id": "W7nQYTdAY--y",
        "outputId": "b839be6d-7f9c-495c-cb61-fea67e798dce"
      },
      "source": [
        "plot_loss(history)"
      ],
      "execution_count": 14,
      "outputs": [
        {
          "output_type": "display_data",
          "data": {
            "image/png": "[encoded data removed]",
            "text/plain": [
              "<Figure size 1296x360 with 1 Axes>"
            ]
          },
          "metadata": {
            "tags": [],
            "needs_background": "light"
          }
        },
        {
          "output_type": "stream",
          "text": [
            "time: 170 ms (started: 2021-06-29 15:29:57 +00:00)\n"
          ],
          "name": "stdout"
        }
      ]
    },
    {
      "cell_type": "code",
      "metadata": {
        "id": "uyBoY7vdZCKL"
      },
      "source": [
        ""
      ],
      "execution_count": null,
      "outputs": []
    }
  ]
}