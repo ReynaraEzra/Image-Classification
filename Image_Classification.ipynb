{
  "nbformat": 4,
  "nbformat_minor": 0,
  "metadata": {
    "colab": {
      "name": "Image-Classification.ipynb",
      "provenance": [],
      "collapsed_sections": [],
      "authorship_tag": "ABX9TyND2zcW7WJWBZtGZfzqnbfG",
      "include_colab_link": true
    },
    "kernelspec": {
      "name": "python3",
      "display_name": "Python 3"
    },
    "language_info": {
      "name": "python"
    }
  },
  "cells": [
    {
      "cell_type": "markdown",
      "metadata": {
        "id": "view-in-github",
        "colab_type": "text"
      },
      "source": [
        "<a href=\"https://colab.research.google.com/github/ReynaraEzra/Image-Classification/blob/main/Image_Classification.ipynb\" target=\"_parent\"><img src=\"https://colab.research.google.com/assets/colab-badge.svg\" alt=\"Open In Colab\"/></a>"
      ]
    },
    {
      "cell_type": "markdown",
      "metadata": {
        "id": "tc8-1hhCcNCB"
      },
      "source": [
        "# **Image Classification On Rock Paper Scissors**\n",
        "# **Reynara Ezra Pratama**"
      ]
    },
    {
      "cell_type": "code",
      "metadata": {
        "colab": {
          "base_uri": "https://localhost:8080/"
        },
        "id": "mPuykErGchJg",
        "outputId": "040ca5a8-f16e-4bf6-e60d-d36653bac9f9"
      },
      "source": [
        "import tensorflow as tf\n",
        "print(tf.__version__)"
      ],
      "execution_count": null,
      "outputs": [
        {
          "output_type": "stream",
          "text": [
            "2.5.0\n"
          ],
          "name": "stdout"
        }
      ]
    },
    {
      "cell_type": "code",
      "metadata": {
        "colab": {
          "base_uri": "https://localhost:8080/"
        },
        "id": "VTNPKeoC2dWn",
        "outputId": "be10c4a9-cf24-4e52-ceb7-fd3ace4495ec"
      },
      "source": [
        "!pip install ipython-autotime\n",
        "%load_ext autotime"
      ],
      "execution_count": 5,
      "outputs": [
        {
          "output_type": "stream",
          "text": [
            "Requirement already satisfied: ipython-autotime in /usr/local/lib/python3.7/dist-packages (0.3.1)\n",
            "Requirement already satisfied: ipython in /usr/local/lib/python3.7/dist-packages (from ipython-autotime) (5.5.0)\n",
            "Requirement already satisfied: traitlets>=4.2 in /usr/local/lib/python3.7/dist-packages (from ipython->ipython-autotime) (5.0.5)\n",
            "Requirement already satisfied: pygments in /usr/local/lib/python3.7/dist-packages (from ipython->ipython-autotime) (2.6.1)\n",
            "Requirement already satisfied: setuptools>=18.5 in /usr/local/lib/python3.7/dist-packages (from ipython->ipython-autotime) (57.0.0)\n",
            "Requirement already satisfied: simplegeneric>0.8 in /usr/local/lib/python3.7/dist-packages (from ipython->ipython-autotime) (0.8.1)\n",
            "Requirement already satisfied: pexpect; sys_platform != \"win32\" in /usr/local/lib/python3.7/dist-packages (from ipython->ipython-autotime) (4.8.0)\n",
            "Requirement already satisfied: pickleshare in /usr/local/lib/python3.7/dist-packages (from ipython->ipython-autotime) (0.7.5)\n",
            "Requirement already satisfied: decorator in /usr/local/lib/python3.7/dist-packages (from ipython->ipython-autotime) (4.4.2)\n",
            "Requirement already satisfied: prompt-toolkit<2.0.0,>=1.0.4 in /usr/local/lib/python3.7/dist-packages (from ipython->ipython-autotime) (1.0.18)\n",
            "Requirement already satisfied: ipython-genutils in /usr/local/lib/python3.7/dist-packages (from traitlets>=4.2->ipython->ipython-autotime) (0.2.0)\n",
            "Requirement already satisfied: ptyprocess>=0.5 in /usr/local/lib/python3.7/dist-packages (from pexpect; sys_platform != \"win32\"->ipython->ipython-autotime) (0.7.0)\n",
            "Requirement already satisfied: six>=1.9.0 in /usr/local/lib/python3.7/dist-packages (from prompt-toolkit<2.0.0,>=1.0.4->ipython->ipython-autotime) (1.15.0)\n",
            "Requirement already satisfied: wcwidth in /usr/local/lib/python3.7/dist-packages (from prompt-toolkit<2.0.0,>=1.0.4->ipython->ipython-autotime) (0.2.5)\n",
            "time: 143 µs (started: 2021-06-19 10:49:29 +00:00)\n"
          ],
          "name": "stdout"
        }
      ]
    },
    {
      "cell_type": "markdown",
      "metadata": {
        "id": "eDz8o3BV2xL3"
      },
      "source": [
        "## **Get Data**"
      ]
    },
    {
      "cell_type": "code",
      "metadata": {
        "id": "ngKcd0qhc_nV",
        "colab": {
          "base_uri": "https://localhost:8080/"
        },
        "outputId": "1c26afca-221a-4921-e62e-9b579297c80f"
      },
      "source": [
        "!wget --no-check-certificate \\\n",
        "  https://dicodingacademy.blob.core.windows.net/picodiploma/ml_pemula_academy/rockpaperscissors.zip \\\n",
        "  -O /tmp/rockpaperscissors.zip"
      ],
      "execution_count": 2,
      "outputs": [
        {
          "output_type": "stream",
          "text": [
            "--2021-06-19 10:39:18--  https://dicodingacademy.blob.core.windows.net/picodiploma/ml_pemula_academy/rockpaperscissors.zip\n",
            "Resolving dicodingacademy.blob.core.windows.net (dicodingacademy.blob.core.windows.net)... 52.239.197.36\n",
            "Connecting to dicodingacademy.blob.core.windows.net (dicodingacademy.blob.core.windows.net)|52.239.197.36|:443... connected.\n",
            "HTTP request sent, awaiting response... 200 OK\n",
            "Length: 322873683 (308M) [application/zip]\n",
            "Saving to: ‘/tmp/rockpaperscissors.zip’\n",
            "\n",
            "/tmp/rockpapersciss 100%[===================>] 307.92M  1.31MB/s    in 5m 32s  \n",
            "\n",
            "2021-06-19 10:44:51 (950 KB/s) - ‘/tmp/rockpaperscissors.zip’ saved [322873683/322873683]\n",
            "\n"
          ],
          "name": "stdout"
        }
      ]
    },
    {
      "cell_type": "markdown",
      "metadata": {
        "id": "RdjPZDJw4WNN"
      },
      "source": [
        "## **Extract Data**"
      ]
    },
    {
      "cell_type": "code",
      "metadata": {
        "colab": {
          "base_uri": "https://localhost:8080/"
        },
        "id": "ZhKptG_z4TTu",
        "outputId": "df64d4d4-f0d0-41c8-c072-5de165768ce5"
      },
      "source": [
        "import zipfile, os\n",
        "\n",
        "local_zip = '/tmp/rockpaperscissors.zip'\n",
        "zip_ref = zipfile.ZipFile(local_zip, 'r')\n",
        "zip_ref.extractall('/tmp')\n",
        "zip_ref.close()"
      ],
      "execution_count": 6,
      "outputs": [
        {
          "output_type": "stream",
          "text": [
            "time: 4.25 s (started: 2021-06-19 10:49:34 +00:00)\n"
          ],
          "name": "stdout"
        }
      ]
    },
    {
      "cell_type": "markdown",
      "metadata": {
        "id": "_SxH83oT_SWV"
      },
      "source": [
        "## **Check Data**"
      ]
    },
    {
      "cell_type": "code",
      "metadata": {
        "colab": {
          "base_uri": "https://localhost:8080/"
        },
        "id": "hvq7sbIo_SqT",
        "outputId": "9b81ee17-a04a-4dd3-d2fa-c8228a7c51ac"
      },
      "source": [
        "print('Number of Rock Images :{}'.format(len(os.listdir('/tmp/rockpaperscissors/rock/'))))\n",
        "print('Number of Paper Images :{}'.format(len(os.listdir('/tmp/rockpaperscissors/paper/'))))\n",
        "print('Number of Scissors Images :{}'.format(len(os.listdir('/tmp/rockpaperscissors/scissors/'))))\n",
        "print('Total Images : {}'.format(\n",
        "    len(os.listdir('/tmp/rockpaperscissors/rock/')) + \n",
        "    len(os.listdir('/tmp/rockpaperscissors/paper/')) + \n",
        "    len(os.listdir('/tmp/rockpaperscissors/scissors/'))\n",
        "    )\n",
        ")"
      ],
      "execution_count": 32,
      "outputs": [
        {
          "output_type": "stream",
          "text": [
            "Number of Rock Images :726\n",
            "Number of Paper Images :712\n",
            "Number of Scissors Images :750\n",
            "Total Images : 2188\n",
            "time: 10.7 ms (started: 2021-06-19 11:29:56 +00:00)\n"
          ],
          "name": "stdout"
        }
      ]
    },
    {
      "cell_type": "markdown",
      "metadata": {
        "id": "kgRYRSVN94ft"
      },
      "source": [
        "## **Split Folder**"
      ]
    },
    {
      "cell_type": "code",
      "metadata": {
        "colab": {
          "base_uri": "https://localhost:8080/"
        },
        "id": "OIenDa6r-ViT",
        "outputId": "ca485def-d805-4a70-b4e5-b1bb415370d9"
      },
      "source": [
        "!pip install split_folders"
      ],
      "execution_count": 13,
      "outputs": [
        {
          "output_type": "stream",
          "text": [
            "Requirement already satisfied: split_folders in /usr/local/lib/python3.7/dist-packages (0.4.3)\n",
            "time: 2.43 s (started: 2021-06-19 11:20:52 +00:00)\n"
          ],
          "name": "stdout"
        }
      ]
    },
    {
      "cell_type": "code",
      "metadata": {
        "colab": {
          "base_uri": "https://localhost:8080/"
        },
        "id": "bygcKoa796Nd",
        "outputId": "8182b804-135a-4b97-99b1-f94d796d1a28"
      },
      "source": [
        "import splitfolders\n",
        "\n",
        "splitfolders.ratio('/tmp/rockpaperscissors/rps-cv-images', '/tmp/rockpaperscissors/data', seed=1, ratio=(0.6, 0.4))"
      ],
      "execution_count": 14,
      "outputs": [
        {
          "output_type": "stream",
          "text": [
            "Copying files: 2188 files [00:00, 4072.20 files/s]"
          ],
          "name": "stderr"
        },
        {
          "output_type": "stream",
          "text": [
            "time: 551 ms (started: 2021-06-19 11:20:59 +00:00)\n"
          ],
          "name": "stdout"
        },
        {
          "output_type": "stream",
          "text": [
            "\n"
          ],
          "name": "stderr"
        }
      ]
    },
    {
      "cell_type": "code",
      "metadata": {
        "colab": {
          "base_uri": "https://localhost:8080/"
        },
        "id": "LhFcOVnF-lnz",
        "outputId": "ce6bd388-bb77-49be-a15b-e44a4e0a60b0"
      },
      "source": [
        "base_dir = '/tmp/rockpaperscissors/data'\n",
        "train_dir = os.path.join(base_dir, 'train') ## Train Dataset\n",
        "validate_dir = os.path.join(base_dir, 'val') ## Validation Dataset"
      ],
      "execution_count": 22,
      "outputs": [
        {
          "output_type": "stream",
          "text": [
            "time: 4.48 ms (started: 2021-06-19 11:22:28 +00:00)\n"
          ],
          "name": "stdout"
        }
      ]
    },
    {
      "cell_type": "code",
      "metadata": {
        "colab": {
          "base_uri": "https://localhost:8080/"
        },
        "id": "vJTNP6eMAaQ9",
        "outputId": "c21ba014-1c0e-4153-9db6-1b7a0f0fef1b"
      },
      "source": [
        "os.listdir('/tmp/rockpaperscissors/data/train')"
      ],
      "execution_count": 23,
      "outputs": [
        {
          "output_type": "execute_result",
          "data": {
            "text/plain": [
              "['rock', 'paper', 'scissors']"
            ]
          },
          "metadata": {
            "tags": []
          },
          "execution_count": 23
        },
        {
          "output_type": "stream",
          "text": [
            "time: 5.68 ms (started: 2021-06-19 11:22:30 +00:00)\n"
          ],
          "name": "stdout"
        }
      ]
    },
    {
      "cell_type": "code",
      "metadata": {
        "colab": {
          "base_uri": "https://localhost:8080/"
        },
        "id": "c2o0R-xB--nh",
        "outputId": "2152eef2-5527-4101-c052-2c0b7030abd3"
      },
      "source": [
        "os.listdir('/tmp/rockpaperscissors/data/val')"
      ],
      "execution_count": 24,
      "outputs": [
        {
          "output_type": "execute_result",
          "data": {
            "text/plain": [
              "['rock', 'paper', 'scissors']"
            ]
          },
          "metadata": {
            "tags": []
          },
          "execution_count": 24
        },
        {
          "output_type": "stream",
          "text": [
            "time: 3.08 ms (started: 2021-06-19 11:22:31 +00:00)\n"
          ],
          "name": "stdout"
        }
      ]
    },
    {
      "cell_type": "markdown",
      "metadata": {
        "id": "CeEw_QH0A3W1"
      },
      "source": [
        "## **Check Train and Validation Size**"
      ]
    },
    {
      "cell_type": "markdown",
      "metadata": {
        "id": "_82RoA2uBDui"
      },
      "source": [
        "**Train 60%**"
      ]
    },
    {
      "cell_type": "code",
      "metadata": {
        "colab": {
          "base_uri": "https://localhost:8080/"
        },
        "id": "a5amQzUEAX-y",
        "outputId": "dfacc2e5-48a1-482b-81df-48c9045a088f"
      },
      "source": [
        "total_size_train = (\n",
        "    len(os.listdir('/tmp/rockpaperscissors/data/train/rock')) + \n",
        "    len(os.listdir('/tmp/rockpaperscissors/data/train/paper')) +\n",
        "    len(os.listdir('/tmp/rockpaperscissors/data/train/scissors'))\n",
        ")\n",
        "print('Total Training Data is : {}'.format(total_size_train))"
      ],
      "execution_count": 35,
      "outputs": [
        {
          "output_type": "stream",
          "text": [
            "Total Training Data is : 1312\n",
            "time: 4.63 ms (started: 2021-06-19 11:32:21 +00:00)\n"
          ],
          "name": "stdout"
        }
      ]
    },
    {
      "cell_type": "markdown",
      "metadata": {
        "id": "9nowOXtICRV9"
      },
      "source": [
        "**Validation 40%**"
      ]
    },
    {
      "cell_type": "code",
      "metadata": {
        "colab": {
          "base_uri": "https://localhost:8080/"
        },
        "id": "V21LPzF3Ajnx",
        "outputId": "789be9a4-ae80-40e3-a2d7-6f7d40110295"
      },
      "source": [
        "total_size_validation = (\n",
        "    len(os.listdir('/tmp/rockpaperscissors/data/val/rock')) +\n",
        "    len(os.listdir('/tmp/rockpaperscissors/data/val/paper')) +\n",
        "    len(os.listdir('/tmp/rockpaperscissors/data/val/scissors'))\n",
        ")\n",
        "print('Total Valdation Data is : {}'.format(total_size_validation))"
      ],
      "execution_count": 36,
      "outputs": [
        {
          "output_type": "stream",
          "text": [
            "Total Valdation Data is : 876\n",
            "time: 4.21 ms (started: 2021-06-19 11:32:39 +00:00)\n"
          ],
          "name": "stdout"
        }
      ]
    },
    {
      "cell_type": "markdown",
      "metadata": {
        "id": "XQZ8ehxtDNsZ"
      },
      "source": [
        "## **Image Augmentation**"
      ]
    },
    {
      "cell_type": "code",
      "metadata": {
        "id": "sKytpP7rDQ0M"
      },
      "source": [
        ""
      ],
      "execution_count": null,
      "outputs": []
    }
  ]
}